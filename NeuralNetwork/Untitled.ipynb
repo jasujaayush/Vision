{
 "cells": [
  {
   "cell_type": "code",
   "execution_count": 35,
   "metadata": {
    "collapsed": false
   },
   "outputs": [],
   "source": [
    "from keras.datasets import mnist\n",
    "from keras.utils import np_utils\n",
    "from keras.models import Sequential\n",
    "from keras.layers import Dense\n",
    "from keras.layers import Dropout\n",
    "from keras.utils import np_utils"
   ]
  },
  {
   "cell_type": "code",
   "execution_count": 9,
   "metadata": {
    "collapsed": false
   },
   "outputs": [],
   "source": [
    "train,test = mnist.load_data()"
   ]
  },
  {
   "cell_type": "code",
   "execution_count": 16,
   "metadata": {
    "collapsed": false
   },
   "outputs": [],
   "source": [
    "width = train[0].shape[1]\n",
    "train_images = train[0].shape[0]\n",
    "test_images = test[0].shape[0]"
   ]
  },
  {
   "cell_type": "code",
   "execution_count": 41,
   "metadata": {
    "collapsed": false
   },
   "outputs": [],
   "source": [
    "xtrain = train[0].reshape(train_images, width*width).astype(\"float32\")/255.0\n",
    "ytrain = np_utils.to_categorical(train[1])"
   ]
  },
  {
   "cell_type": "code",
   "execution_count": 42,
   "metadata": {
    "collapsed": false
   },
   "outputs": [],
   "source": [
    "xtest = test[0].reshape(test_images, width*width).astype(\"float32\")/255.0\n",
    "ytest = np_utils.to_categorical(test[1])\n",
    "num_classes = ytest.shape[1]"
   ]
  },
  {
   "cell_type": "code",
   "execution_count": 39,
   "metadata": {
    "collapsed": false
   },
   "outputs": [],
   "source": [
    "def baseline_model():\n",
    "    # create model\n",
    "    num_pixels = width*width\n",
    "    model = Sequential()\n",
    "    model.add(Dense(num_pixels, input_dim=num_pixels, kernel_initializer='normal', activation='relu'))\n",
    "    model.add(Dense(num_classes, kernel_initializer='normal', activation='softmax'))\n",
    "    model.compile(loss='categorical_crossentropy', optimizer='adam', metrics=['accuracy'])\n",
    "    return model"
   ]
  },
  {
   "cell_type": "code",
   "execution_count": 43,
   "metadata": {
    "collapsed": false
   },
   "outputs": [
    {
     "name": "stdout",
     "output_type": "stream",
     "text": [
      "Train on 60000 samples, validate on 10000 samples\n",
      "Epoch 1/10\n",
      "15s - loss: 0.2787 - acc: 0.9201 - val_loss: 0.1489 - val_acc: 0.9554\n",
      "Epoch 2/10\n",
      "14s - loss: 0.1093 - acc: 0.9688 - val_loss: 0.1055 - val_acc: 0.9682\n",
      "Epoch 3/10\n",
      "14s - loss: 0.0716 - acc: 0.9795 - val_loss: 0.0774 - val_acc: 0.9751\n",
      "Epoch 4/10\n",
      "14s - loss: 0.0501 - acc: 0.9855 - val_loss: 0.0710 - val_acc: 0.9779\n",
      "Epoch 5/10\n",
      "14s - loss: 0.0353 - acc: 0.9901 - val_loss: 0.0664 - val_acc: 0.9799\n",
      "Epoch 6/10\n",
      "14s - loss: 0.0251 - acc: 0.9935 - val_loss: 0.0604 - val_acc: 0.9817\n",
      "Epoch 7/10\n",
      "15s - loss: 0.0188 - acc: 0.9953 - val_loss: 0.0604 - val_acc: 0.9814\n",
      "Epoch 8/10\n",
      "15s - loss: 0.0141 - acc: 0.9969 - val_loss: 0.0646 - val_acc: 0.9805\n",
      "Epoch 9/10\n",
      "15s - loss: 0.0111 - acc: 0.9976 - val_loss: 0.0625 - val_acc: 0.9812\n",
      "Epoch 10/10\n",
      "14s - loss: 0.0073 - acc: 0.9988 - val_loss: 0.0587 - val_acc: 0.9831\n",
      "Baseline Error: 1.69%\n"
     ]
    }
   ],
   "source": [
    "model = baseline_model()\n",
    "# Fit the model\n",
    "model.fit(xtrain, ytrain, validation_data=(xtest, ytest), epochs=10, batch_size=200, verbose=2)\n",
    "# Final evaluation of the model\n",
    "scores = model.evaluate(xtest, ytest, verbose=0)\n",
    "print(\"Baseline Error: %.2f%%\" % (100-scores[1]*100))"
   ]
  },
  {
   "cell_type": "code",
   "execution_count": 51,
   "metadata": {
    "collapsed": true
   },
   "outputs": [],
   "source": [
    "from keras.datasets import mnist\n",
    "from keras.models import Sequential\n",
    "from keras.layers import Dense\n",
    "from keras.layers import Dropout\n",
    "from keras.layers import Flatten\n",
    "from keras.layers.convolutional import Conv2D\n",
    "from keras.layers.convolutional import MaxPooling2D\n",
    "from keras.utils import np_utils\n",
    "from keras import backend as K\n",
    "K.set_image_dim_ordering('th')\n",
    "\n",
    "def conv_model():\n",
    "    model = Sequential()\n",
    "    model.add(Conv2D(32, (5,5), input_shape=(1,28,28), activation='relu'))\n",
    "    model.add(MaxPooling2D(pool_size=(2,2)))\n",
    "    model.add(Dropout(0.2))\n",
    "    model.add(Flatten())\n",
    "    model.add(Dense(128, activation='relu'))\n",
    "    model.add(Dense(num_classes, activation='softmax'))\n",
    "    model.compile(loss='categorical_crossentropy',optimizer='adam', metrics=['accuracy'])\n",
    "    return model"
   ]
  },
  {
   "cell_type": "code",
   "execution_count": null,
   "metadata": {
    "collapsed": false
   },
   "outputs": [],
   "source": [
    "(xtrain, ytrain), (xtest, ytest) = mnist.load_data()\n",
    "xtrain = xtrain.reshape(xtrain.shape[0], 1, 28, 28).astype('float32')\n",
    "xtest = xtest.reshape(xtest.shape[0], 1, 28, 28).astype('float32')\n",
    "\n",
    "xtrain = xtrain / 255\n",
    "xtest = xtest / 255\n",
    "# one hot encode outputs\n",
    "ytrain = np_utils.to_categorical(ytrain)\n",
    "ytest = np_utils.to_categorical(ytest)\n",
    "num_classes = ytest.shape[1]\n",
    "\n",
    "model = conv_model()\n",
    "model.fit(xtrain, ytrain, validation_data=(xtest, ytest), epochs=10, batch_size=200, verbose=2)\n",
    "scores = model.evaluate(xtest, ytest, verbose=0)\n",
    "print(\"Baseline Error: %.2f%%\" % (100-scores[1]*100))"
   ]
  },
  {
   "cell_type": "code",
   "execution_count": null,
   "metadata": {
    "collapsed": true
   },
   "outputs": [],
   "source": []
  }
 ],
 "metadata": {
  "kernelspec": {
   "display_name": "Python 2",
   "language": "python",
   "name": "python2"
  },
  "language_info": {
   "codemirror_mode": {
    "name": "ipython",
    "version": 2
   },
   "file_extension": ".py",
   "mimetype": "text/x-python",
   "name": "python",
   "nbconvert_exporter": "python",
   "pygments_lexer": "ipython2",
   "version": "2.7.6"
  }
 },
 "nbformat": 4,
 "nbformat_minor": 2
}
